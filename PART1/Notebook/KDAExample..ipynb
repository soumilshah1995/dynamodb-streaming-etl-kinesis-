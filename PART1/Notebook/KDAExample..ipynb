﻿{
  "metadata": {
    "name": "KDAExample",
    "kernelspec": {
      "language": "scala",
      "name": "spark2-scala"
    },
    "language_info": {
      "codemirror_mode": "text/x-scala",
      "file_extension": ".scala",
      "mimetype": "text/x-scala",
      "name": "scala",
      "pygments_lexer": "scala"
    }
  },
  "nbformat": 4,
  "nbformat_minor": 2,
  "cells": [
    {
      "cell_type": "code",
      "execution_count": 0,
      "metadata": {
        "autoscroll": "auto"
      },
      "outputs": [],
      "source": "\r\n%flink.ssql\r\n\r\nDROP TABLE if exists tbl_orders;\r\nCREATE TABLE tbl_orders (\r\n    orderid VARCHAR,\r\n    customer_id VARCHAR,\r\n    ts TIMESTAMP(3),\r\n    order_value DOUBLE,\r\n    priority VARCHAR,\r\n    WATERMARK FOR ts AS ts - INTERVAL \u00275\u0027 SECOND\r\n\r\n)\r\nWITH (\r\n    \u0027connector\u0027 \u003d \u0027kinesis\u0027,\r\n    \u0027stream\u0027 \u003d \u0027order_streams\u0027,\r\n    \u0027aws.region\u0027 \u003d \u0027us-east-1\u0027,\r\n    \u0027scan.stream.initpos\u0027 \u003d \u0027LATEST\u0027,\r\n    \u0027format\u0027 \u003d \u0027json\u0027,\r\n    \u0027json.timestamp-format.standard\u0027 \u003d \u0027ISO-8601\u0027\r\n    );\r\n\r\nDROP TABLE if exists tbl_customers;\r\nCREATE TABLE tbl_customers (\r\n    customer_id VARCHAR,\r\n    name  VARCHAR,\r\n    state  VARCHAR,\r\n    city  VARCHAR,\r\n    email  VARCHAR,\r\n    ts TIMESTAMP(3),\r\n    WATERMARK FOR ts AS ts - INTERVAL \u00275\u0027 SECOND\r\n\r\n)\r\nWITH (\r\n    \u0027connector\u0027 \u003d \u0027kinesis\u0027,\r\n    \u0027stream\u0027 \u003d \u0027customers_streams\u0027,\r\n    \u0027aws.region\u0027 \u003d \u0027us-east-1\u0027,\r\n    \u0027scan.stream.initpos\u0027 \u003d \u0027LATEST\u0027,\r\n    \u0027format\u0027 \u003d \u0027json\u0027,\r\n    \u0027json.timestamp-format.standard\u0027 \u003d \u0027ISO-8601\u0027\r\n    );\r\n\r\nDROP TABLE if exists orders_customer_stitched;\r\nCREATE TABLE orders_customer_stitched (\r\n        orderid VARCHAR,\r\n        ts TIMESTAMP(3),\r\n        order_value DOUBLE,\r\n        priority VARCHAR,\r\n        name  VARCHAR,\r\n        state  VARCHAR,\r\n        city  VARCHAR,\r\n        email  VARCHAR\r\n)\r\nWITH (\r\n    \u0027connector\u0027 \u003d \u0027kinesis\u0027,\r\n    \u0027stream\u0027 \u003d \u0027orders_customer_stitched\u0027,\r\n    \u0027aws.region\u0027 \u003d \u0027us-east-1\u0027,\r\n    \u0027scan.stream.initpos\u0027 \u003d \u0027LATEST\u0027,\r\n    \u0027format\u0027 \u003d \u0027json\u0027,\r\n    \u0027json.timestamp-format.standard\u0027 \u003d \u0027ISO-8601\u0027\r\n);"
    },
    {
      "cell_type": "code",
      "execution_count": 1,
      "metadata": {
        "autoscroll": "auto"
      },
      "outputs": [],
      "source": "%flink.ssql(type\u003dupdate)\r\nINSERT INTO orders_customer_stitched\r\nSELECT\r\n    tbl_orders.orderid,\r\n    tbl_customers.ts,\r\n    tbl_orders.order_value,\r\n    tbl_orders.priority,\r\n    tbl_customers.name,\r\n    tbl_customers.state,\r\n    tbl_customers.city,\r\n    tbl_customers.email\r\n\r\nFROM tbl_orders INNER JOIN tbl_customers ON tbl_orders.customer_id \u003d tbl_customers.customer_id\r\nWHERE tbl_orders.ts BETWEEN tbl_customers.ts - INTERVAL \u00271\u0027 MINUTE AND tbl_customers.ts;\r\n"
    }
  ]
}